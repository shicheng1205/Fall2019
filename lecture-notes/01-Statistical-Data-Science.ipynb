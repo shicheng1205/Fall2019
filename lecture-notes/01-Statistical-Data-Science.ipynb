{
 "cells": [
  {
   "cell_type": "markdown",
   "metadata": {
    "slideshow": {
     "slide_type": "slide"
    }
   },
   "source": [
    "# PSTAT 134/234 - Statistical Data Science <a class=\"tocSkip\">\n",
    "    \n",
    "\n",
    "## Instructor: Sang-Yun Oh <a class=\"tocSkip\">"
   ]
  },
  {
   "cell_type": "markdown",
   "metadata": {
    "slideshow": {
     "slide_type": "slide"
    }
   },
   "source": [
    "# What is Data Science?"
   ]
  },
  {
   "cell_type": "markdown",
   "metadata": {
    "slideshow": {
     "slide_type": "subslide"
    }
   },
   "source": [
    "## (Classical) Scientific Method\n",
    "\n",
    "![Scientific Method](images/scientific-method.png)\n",
    "[[WikiMedia](https://commons.wikimedia.org/wiki/File:The_Scientific_Method_as_an_Ongoing_Process.svg)]\n",
    "\n",
    "Scientific method used since ~1200s and formaized in 1500s"
   ]
  },
  {
   "cell_type": "markdown",
   "metadata": {
    "slideshow": {
     "slide_type": "subslide"
    }
   },
   "source": [
    "## New Paradigm of Science\n",
    "\n",
    "**Fourth Paradigm: Data-intensive scientific discovery** (Jim Gray): everything about science is changing"
   ]
  },
  {
   "cell_type": "markdown",
   "metadata": {
    "slideshow": {
     "slide_type": "fragment"
    }
   },
   "source": [
    "* Scope of Research has broadened: **Basic science + Business insight**"
   ]
  },
  {
   "cell_type": "markdown",
   "metadata": {
    "slideshow": {
     "slide_type": "fragment"
    }
   },
   "source": [
    "* \"Some models are useful\": **Precise + Approximate**"
   ]
  },
  {
   "cell_type": "markdown",
   "metadata": {
    "slideshow": {
     "slide_type": "fragment"
    }
   },
   "source": [
    "* What is more important? **Understanding + Prediction**"
   ]
  },
  {
   "cell_type": "markdown",
   "metadata": {
    "slideshow": {
     "slide_type": "subslide"
    }
   },
   "source": [
    "## Data Science is ...\n",
    "\n",
    "* A multi-disciplinary field that uses scientific methods, processes, algorithms and systems to extract knowledge and insights from structured and unstructured data [reference](https://doi.org/10.1145/2500499)\n",
    "\n",
    "* Merger of statistics, data analysis, machine learning and their related methods in order to understand and analyze actual phenomena with data [reference](https://doi.org/10.1007/978-4-431-65950-1_3)\n",
    "\n",
    "* Composed of techniques and theories drawn from many fields within the context of mathematics, statistics, computer science, and information science. [reference](https://www.microsoft.com/en-us/research/publication/fourth-paradigm-data-intensive-scientific-discovery/)"
   ]
  },
  {
   "cell_type": "markdown",
   "metadata": {
    "slideshow": {
     "slide_type": "slide"
    }
   },
   "source": [
    "## Beginnings of Data Science\n",
    "\n",
    "![Cleveland](images/data-science-cleveland.png)\n",
    "[[International Statistical Review](http://doi.org/10.2307/1403527)]"
   ]
  },
  {
   "cell_type": "markdown",
   "metadata": {
    "slideshow": {
     "slide_type": "subslide"
    }
   },
   "source": [
    "The article proposed data science program to train a new generation of data analysts:\n",
    "\n",
    "* Domain expertise: data analysis collaborations in subject matter areas.\n",
    "\n",
    "* Mathematics/Statistics: models, estimation, and distribution based on probabilistic inference.\n",
    "\n",
    "* Computing: hardware and software; computational algorithms\n",
    "    \n",
    "* Theory: foundations of data science; mathematical investigations of models and methods\n",
    "    \n",
    "\n",
    "[International Statistical Review](http://doi.org/10.2307/1403527)"
   ]
  },
  {
   "cell_type": "markdown",
   "metadata": {
    "slideshow": {
     "slide_type": "subslide"
    }
   },
   "source": [
    "## Data Scientific Approach\n",
    "\n",
    "![DataScienceLifeCycle](images/DataScienceLifeCycle.jpg)\n",
    "[[UC Berkeley, School of Information](https://datascience.berkeley.edu/about/what-is-data-science/)]"
   ]
  },
  {
   "cell_type": "markdown",
   "metadata": {
    "slideshow": {
     "slide_type": "slide"
    }
   },
   "source": [
    "# In PSTAT 134, you will ...\n",
    "\n",
    "- Analyze real sports, healthcare, financial, and text data for insight"
   ]
  },
  {
   "cell_type": "markdown",
   "metadata": {
    "slideshow": {
     "slide_type": "fragment"
    }
   },
   "source": [
    "- Learn data formats and ways to access them:  \n",
    "    e.g. JSON data over web-based application programming interface (API) "
   ]
  },
  {
   "cell_type": "markdown",
   "metadata": {
    "slideshow": {
     "slide_type": "fragment"
    }
   },
   "source": [
    "- Learn and practice new tools:  \n",
    "    e.g. Jupyter notebook, pandas, interactive widgets, command line interface"
   ]
  },
  {
   "cell_type": "markdown",
   "metadata": {
    "slideshow": {
     "slide_type": "fragment"
    }
   },
   "source": [
    "- Practice conceptualization and communication of ideas through open-ended questions and final group project"
   ]
  },
  {
   "cell_type": "markdown",
   "metadata": {
    "slideshow": {
     "slide_type": "fragment"
    }
   },
   "source": [
    "- Use documentation to achieve programming objective effectively"
   ]
  },
  {
   "cell_type": "markdown",
   "metadata": {
    "slideshow": {
     "slide_type": "slide"
    }
   },
   "source": [
    "# Course Information\n",
    "\n",
    "## Teaching Staff \n",
    "\n",
    "### Instructor: Sang-Yun Oh <a class=\"tocSkip\">\n",
    "\n",
    "- Lectures: MW 11 am - 12:15 pm\n",
    "- Room: PHELP3515\n",
    "- Office: South Hall 5514"
   ]
  },
  {
   "cell_type": "markdown",
   "metadata": {
    "slideshow": {
     "slide_type": "subslide"
    }
   },
   "source": [
    "### TA: Zhipu (Aaron) Zhou <a class=\"tocSkip\">\n",
    "    \n",
    "### TA: Fanqi (Franky) Meng <a class=\"tocSkip\">\n",
    "    \n",
    "### Tutor: Dorsa Jenab <a class=\"tocSkip\">\n",
    "    \n",
    "### Tutor: Junayed Naushad <a class=\"tocSkip\">\n",
    "    \n",
    "### Tutor: Yiyi Xu <a class=\"tocSkip\">"
   ]
  },
  {
   "cell_type": "markdown",
   "metadata": {
    "slideshow": {
     "slide_type": "subslide"
    }
   },
   "source": [
    "## Grading\n",
    "\n",
    "* **Attendance**: both lectures and sections (**10%**)  \n",
    "    Total of five will be dropped. _No exceptions_\n",
    "\n",
    "* **Midterm** (11/6): computer-based individual in-class exam (**25%**)\n",
    "\n",
    "* **Assignments**: discussion is encouraged, but the write-up must be individual work (**35%**)\n",
    "\n",
    "* **Project**: group final project & poster session (**30%**)  \n",
    "    Poster presentation: 12/12 @ 12-3pm  \n",
    "    Report due: 12/12 @ 11:59 pm"
   ]
  },
  {
   "cell_type": "markdown",
   "metadata": {
    "slideshow": {
     "slide_type": "subslide"
    }
   },
   "source": [
    "## Course Material\n",
    "\n",
    "- [PSTAT 134 - Github repository](https://github.com/UCSB-PSTAT-134-234/Fall2019)\n",
    "\n",
    "- [Python Data Science Handbook](https://jakevdp.github.io/PythonDataScienceHandbook/) by Jake Vanderplas  \n",
    "    \n",
    "- Written in Jupter notebook and [the source code available on Github](https://github.com/jakevdp/PythonDataScienceHandbook)\n",
    "\n",
    "- You can follow the book in our course Jupterhub (file upload)\n",
    "    ![](https://covers.oreillystatic.com/images/0636920034919/lrg.jpg) \n",
    "    "
   ]
  },
  {
   "cell_type": "markdown",
   "metadata": {
    "slideshow": {
     "slide_type": "slide"
    }
   },
   "source": [
    "## Tentative Weekly Outline \n",
    "\n",
    "---\n",
    "\n",
    "* **Week 1**: Data and uncertainty   \n",
    "    - Computing: Jupyter notebook and Python primer\n",
    "    \n",
    "* **Week 2**: Data scraping, transformation, and wrangling\n",
    "    - Computing: command line interface and Pandas\n",
    "        \n",
    "* **Week 3-4**: Visualization and exploratory analysis\n",
    "    - Computing: Scikit-learn, Matplotlib, Seaborn"
   ]
  },
  {
   "cell_type": "markdown",
   "metadata": {
    "slideshow": {
     "slide_type": "subslide"
    }
   },
   "source": [
    "* **Week 5-6**: Finance data module\n",
    "\n",
    "* **Week 7-8**: Health data module\n",
    "               \n",
    "* **Week 9**: Text data module\n",
    "\n",
    "* **Final Projects**: Final project poster session"
   ]
  },
  {
   "cell_type": "markdown",
   "metadata": {
    "slideshow": {
     "slide_type": "slide"
    }
   },
   "source": [
    "# Computational Environment\n",
    "\n",
    "<table style=\"width: 100%;\">\n",
    "    <tr>\n",
    "    <td style=\"width: 50%;\"> <img src=\"images/jupyternotebook.png\" alt=\"Drawing\" style=\"width: 100%;\"/> </td>\n",
    "    <td style=\"width: 50%;\"> <img src=\"images/jupyterlab.png\" alt=\"Drawing\" style=\"width: 100%;\"/> </td>\n",
    "    </tr>\n",
    "    <tr>\n",
    "    <td style=\"text-align: center; font-weight: bold;\"/> Jupyter Notebook <br> (required) </td>\n",
    "    <td style=\"text-align: center; font-weight: bold;\"/> Jupyter Lab <br> (optional) </td>\n",
    "    </tr>\n",
    "</table>"
   ]
  },
  {
   "cell_type": "markdown",
   "metadata": {
    "slideshow": {
     "slide_type": "subslide"
    }
   },
   "source": [
    "## Jupyter Notebooks vs. Jupyter Lab\n",
    "\n",
    "- Jupyter cluster is here: https://pstat134.lsit.ucsb.edu\n",
    "\n",
    "- If your username is ****,  \n",
    "\n",
    "- Jupyter Notebook: https://pstat134.lsit.ucsb.edu/user/****/tree  \n",
    "    a.k.a Classic Notebook (**required for PSTAT 134**)\n",
    "\n",
    "- Jupyter Lab: https://pstat134.lsit.ucsb.edu/user/****/lab  \n",
    "    (**optional for PSTAT 134**)"
   ]
  },
  {
   "cell_type": "markdown",
   "metadata": {
    "slideshow": {
     "slide_type": "fragment"
    }
   },
   "source": [
    "- **Jupyter Notebook + Additional Features = Jupyter Lab**"
   ]
  },
  {
   "cell_type": "markdown",
   "metadata": {
    "slideshow": {
     "slide_type": "subslide"
    }
   },
   "source": [
    "## Github\n",
    "\n",
    "* Optional but recommended\n",
    "\n",
    "* [Github Student Account](https://education.github.com/pack)"
   ]
  },
  {
   "cell_type": "markdown",
   "metadata": {
    "slideshow": {
     "slide_type": "subslide"
    }
   },
   "source": [
    "# Jupyter Notebook\n",
    "\n",
    "- Notebook environment: code, formatted text, and graphics\n",
    "\n",
    "- Conversion to other formats: e.g. markdown, latx, PDF, HTML, etc.\n",
    "\n",
    "- Interactivity HTML widgets\n",
    "\n",
    "![Jupyter Notebook](images/jupyternotebook.png)"
   ]
  },
  {
   "cell_type": "markdown",
   "metadata": {
    "slideshow": {
     "slide_type": "subslide"
    }
   },
   "source": [
    "- \"Kernels\" accessible through Jupyter include Python, shell, R, Julia, others  \n",
    "    [Jupyter kernels](https://github.com/jupyter/jupyter/wiki/Jupyter-kernels)  \n",
    "    ![Jupyter Diagram](images/jupyter-diagram.jpg)\n"
   ]
  },
  {
   "cell_type": "markdown",
   "metadata": {
    "slideshow": {
     "slide_type": "fragment"
    }
   },
   "source": [
    "- Read [Jupyter notebook basics](https://github.com/jupyter/notebook/blob/master/docs/source/examples/Notebook/Notebook%20Basics.ipynb)"
   ]
  },
  {
   "cell_type": "markdown",
   "metadata": {
    "slideshow": {
     "slide_type": "subslide"
    }
   },
   "source": [
    "## Writing formatted text\n",
    "\n",
    "- Text formatting with [markdown syntax](https://guides.github.com/features/mastering-markdown/)"
   ]
  },
  {
   "cell_type": "markdown",
   "metadata": {
    "slideshow": {
     "slide_type": "fragment"
    }
   },
   "source": [
    "- Math equations with latex commands:  \n",
    "    e.g., `$$ \\hat \\mu = \\frac{1}{n}\\sum_{i=1}^n x_i $$` produces:\n",
    "    $$ \\hat \\mu = \\frac{1}{n}\\sum_{i=1}^n x_i,\\qquad \\hat\\sigma^2 = \\frac{1}{n}\\sum_{i=1}^n (x_i-\\hat\\mu)^2 $$\n",
    "    [Mathpix](https://mathpix.com/)"
   ]
  },
  {
   "cell_type": "markdown",
   "metadata": {
    "slideshow": {
     "slide_type": "fragment"
    }
   },
   "source": [
    "- Images with `![Not Lazy](http://thoughtfulcampaigner.org/wp-content/uploads/2017/10/im-not-lazy-im-just-in-energy-saving-mode-sleepy-cat.jpg)`"
   ]
  },
  {
   "cell_type": "markdown",
   "metadata": {
    "slideshow": {
     "slide_type": "fragment"
    }
   },
   "source": [
    "![Not Lazy](http://thoughtfulcampaigner.org/wp-content/uploads/2017/10/im-not-lazy-im-just-in-energy-saving-mode-sleepy-cat.jpg)"
   ]
  },
  {
   "cell_type": "markdown",
   "metadata": {
    "slideshow": {
     "slide_type": "fragment"
    }
   },
   "source": [
    "- Markdown is everywhere: e.g., [Github Flavored Markdown (GFM)](https://guides.github.com/features/mastering-markdown/#GitHub-flavored-markdown)"
   ]
  },
  {
   "cell_type": "markdown",
   "metadata": {
    "slideshow": {
     "slide_type": "subslide"
    }
   },
   "source": [
    "## More than Python\n",
    "\n",
    "- Python interpreter\n",
    "\n",
    "- IPython is short for interactive Python with additional functionality  \n",
    "    e.g., tab completion, syntax highlighting, magic, etc. (Chapter 1 in Vanderplas)  \n",
    "\n",
    "- IPython's \"[line, cell] magic\" commands  \n",
    "    e.g., debugging, code timing, shell commands, execute external script, etc."
   ]
  },
  {
   "cell_type": "markdown",
   "metadata": {
    "slideshow": {
     "slide_type": "subslide"
    }
   },
   "source": [
    "## Line magic: `%`\n",
    "\n",
    "- [Demo] Debugging example: `%debug`, etc.\n",
    "\n",
    "- [`xmode`](https://jakevdp.github.io/PythonDataScienceHandbook/01.06-errors-and-debugging.html#Controlling-Exceptions:-%xmode): Exception handler mode\n",
    "\n",
    "- More detail on debugging: [Vanderplas - Chapter 1](https://jakevdp.github.io/PythonDataScienceHandbook/01.06-errors-and-debugging.html)"
   ]
  },
  {
   "cell_type": "markdown",
   "metadata": {},
   "source": [
    "### Example: Debugging"
   ]
  },
  {
   "cell_type": "code",
   "execution_count": 1,
   "metadata": {
    "slideshow": {
     "slide_type": "slide"
    }
   },
   "outputs": [
    {
     "name": "stdout",
     "output_type": "stream",
     "text": [
      "Exception reporting mode: Plain\n"
     ]
    }
   ],
   "source": [
    "# exception mode to verbose output\n",
    "%xmode Plain\n",
    "# %xmode Verbose\n",
    "\n",
    "from IPython.core.debugger import set_trace\n",
    "\n",
    "def func1(a, b):\n",
    "    return a / b\n",
    "\n",
    "def func2(x):\n",
    "    \n",
    "    a = x\n",
    "    # set_trace()\n",
    "    b = x - 1\n",
    "    return func1(a, b)\n",
    "\n",
    "# Refer to https://docs.python.org/3/library/pdb.html#debugger-commands\n",
    "# Press h for help\n",
    "# Uncomment below to trigger an error\n",
    "# func2(1) "
   ]
  },
  {
   "cell_type": "code",
   "execution_count": 2,
   "metadata": {
    "scrolled": false,
    "slideshow": {
     "slide_type": "slide"
    }
   },
   "outputs": [
    {
     "name": "stderr",
     "output_type": "stream",
     "text": [
      "ERROR:root:No traceback has been produced, nothing to debug.\n"
     ]
    }
   ],
   "source": [
    "# After an exception occurs, calling %debug \n",
    "# starts the debugger at last error\n",
    "# uncomment the next line for demo\n",
    "%debug\n",
    "\n",
    "# input following at ipdb prompt\n",
    "# print(a)\n",
    "# print(b)"
   ]
  },
  {
   "cell_type": "markdown",
   "metadata": {
    "slideshow": {
     "slide_type": "slide"
    }
   },
   "source": [
    "### Other magic commands\n",
    "\n",
    "- [many more](https://www.datacamp.com/community/tutorials/tutorial-jupyter-notebook)"
   ]
  },
  {
   "cell_type": "code",
   "execution_count": 3,
   "metadata": {
    "slideshow": {
     "slide_type": "-"
    }
   },
   "outputs": [
    {
     "data": {
      "application/json": {
       "cell": {
        "!": "OSMagics",
        "HTML": "Other",
        "SVG": "Other",
        "bash": "Other",
        "capture": "ExecutionMagics",
        "debug": "ExecutionMagics",
        "file": "Other",
        "html": "DisplayMagics",
        "javascript": "DisplayMagics",
        "js": "DisplayMagics",
        "latex": "DisplayMagics",
        "markdown": "DisplayMagics",
        "perl": "Other",
        "prun": "ExecutionMagics",
        "pypy": "Other",
        "python": "Other",
        "python2": "Other",
        "python3": "Other",
        "ruby": "Other",
        "script": "ScriptMagics",
        "sh": "Other",
        "svg": "DisplayMagics",
        "sx": "OSMagics",
        "system": "OSMagics",
        "time": "ExecutionMagics",
        "timeit": "ExecutionMagics",
        "writefile": "OSMagics"
       },
       "line": {
        "alias": "OSMagics",
        "alias_magic": "BasicMagics",
        "autoawait": "AsyncMagics",
        "autocall": "AutoMagics",
        "automagic": "AutoMagics",
        "autosave": "KernelMagics",
        "bookmark": "OSMagics",
        "cat": "Other",
        "cd": "OSMagics",
        "clear": "KernelMagics",
        "colors": "BasicMagics",
        "conda": "PackagingMagics",
        "config": "ConfigMagics",
        "connect_info": "KernelMagics",
        "cp": "Other",
        "debug": "ExecutionMagics",
        "dhist": "OSMagics",
        "dirs": "OSMagics",
        "doctest_mode": "BasicMagics",
        "ed": "Other",
        "edit": "KernelMagics",
        "env": "OSMagics",
        "gui": "BasicMagics",
        "hist": "Other",
        "history": "HistoryMagics",
        "killbgscripts": "ScriptMagics",
        "ldir": "Other",
        "less": "KernelMagics",
        "lf": "Other",
        "lk": "Other",
        "ll": "Other",
        "load": "CodeMagics",
        "load_ext": "ExtensionMagics",
        "loadpy": "CodeMagics",
        "logoff": "LoggingMagics",
        "logon": "LoggingMagics",
        "logstart": "LoggingMagics",
        "logstate": "LoggingMagics",
        "logstop": "LoggingMagics",
        "ls": "Other",
        "lsmagic": "BasicMagics",
        "lx": "Other",
        "macro": "ExecutionMagics",
        "magic": "BasicMagics",
        "man": "KernelMagics",
        "matplotlib": "PylabMagics",
        "mkdir": "Other",
        "more": "KernelMagics",
        "mv": "Other",
        "notebook": "BasicMagics",
        "page": "BasicMagics",
        "pastebin": "CodeMagics",
        "pdb": "ExecutionMagics",
        "pdef": "NamespaceMagics",
        "pdoc": "NamespaceMagics",
        "pfile": "NamespaceMagics",
        "pinfo": "NamespaceMagics",
        "pinfo2": "NamespaceMagics",
        "pip": "PackagingMagics",
        "popd": "OSMagics",
        "pprint": "BasicMagics",
        "precision": "BasicMagics",
        "prun": "ExecutionMagics",
        "psearch": "NamespaceMagics",
        "psource": "NamespaceMagics",
        "pushd": "OSMagics",
        "pwd": "OSMagics",
        "pycat": "OSMagics",
        "pylab": "PylabMagics",
        "qtconsole": "KernelMagics",
        "quickref": "BasicMagics",
        "recall": "HistoryMagics",
        "rehashx": "OSMagics",
        "reload_ext": "ExtensionMagics",
        "rep": "Other",
        "rerun": "HistoryMagics",
        "reset": "NamespaceMagics",
        "reset_selective": "NamespaceMagics",
        "rm": "Other",
        "rmdir": "Other",
        "run": "ExecutionMagics",
        "save": "CodeMagics",
        "sc": "OSMagics",
        "set_env": "OSMagics",
        "store": "StoreMagics",
        "sx": "OSMagics",
        "system": "OSMagics",
        "tb": "ExecutionMagics",
        "time": "ExecutionMagics",
        "timeit": "ExecutionMagics",
        "unalias": "OSMagics",
        "unload_ext": "ExtensionMagics",
        "who": "NamespaceMagics",
        "who_ls": "NamespaceMagics",
        "whos": "NamespaceMagics",
        "xdel": "NamespaceMagics",
        "xmode": "BasicMagics"
       }
      },
      "text/plain": [
       "Available line magics:\n",
       "%alias  %alias_magic  %autoawait  %autocall  %automagic  %autosave  %bookmark  %cat  %cd  %clear  %colors  %conda  %config  %connect_info  %cp  %debug  %dhist  %dirs  %doctest_mode  %ed  %edit  %env  %gui  %hist  %history  %killbgscripts  %ldir  %less  %lf  %lk  %ll  %load  %load_ext  %loadpy  %logoff  %logon  %logstart  %logstate  %logstop  %ls  %lsmagic  %lx  %macro  %magic  %man  %matplotlib  %mkdir  %more  %mv  %notebook  %page  %pastebin  %pdb  %pdef  %pdoc  %pfile  %pinfo  %pinfo2  %pip  %popd  %pprint  %precision  %prun  %psearch  %psource  %pushd  %pwd  %pycat  %pylab  %qtconsole  %quickref  %recall  %rehashx  %reload_ext  %rep  %rerun  %reset  %reset_selective  %rm  %rmdir  %run  %save  %sc  %set_env  %store  %sx  %system  %tb  %time  %timeit  %unalias  %unload_ext  %who  %who_ls  %whos  %xdel  %xmode\n",
       "\n",
       "Available cell magics:\n",
       "%%!  %%HTML  %%SVG  %%bash  %%capture  %%debug  %%file  %%html  %%javascript  %%js  %%latex  %%markdown  %%perl  %%prun  %%pypy  %%python  %%python2  %%python3  %%ruby  %%script  %%sh  %%svg  %%sx  %%system  %%time  %%timeit  %%writefile\n",
       "\n",
       "Automagic is ON, % prefix IS NOT needed for line magics."
      ]
     },
     "execution_count": 3,
     "metadata": {},
     "output_type": "execute_result"
    }
   ],
   "source": [
    "# shift-tab for documentation\n",
    "%lsmagic"
   ]
  },
  {
   "cell_type": "markdown",
   "metadata": {
    "slideshow": {
     "slide_type": "subslide"
    }
   },
   "source": [
    "## Cell magic: `%%`\n",
    "\n",
    "- Entire cell is interpreted differently\n",
    "\n",
    "### Example: Measuring running time"
   ]
  },
  {
   "cell_type": "code",
   "execution_count": 4,
   "metadata": {
    "slideshow": {
     "slide_type": "-"
    }
   },
   "outputs": [
    {
     "name": "stdout",
     "output_type": "stream",
     "text": [
      "99.6 µs ± 6.12 µs per loop (mean ± std. dev. of 10 runs, 500 loops each)\n"
     ]
    }
   ],
   "source": [
    "%%timeit -n500 -r10\n",
    "total = []\n",
    "for i in range(1000):\n",
    "    total += [i]"
   ]
  },
  {
   "cell_type": "code",
   "execution_count": 5,
   "metadata": {
    "slideshow": {
     "slide_type": "fragment"
    }
   },
   "outputs": [
    {
     "name": "stdout",
     "output_type": "stream",
     "text": [
      "47.7 µs ± 460 ns per loop (mean ± std. dev. of 10 runs, 500 loops each)\n"
     ]
    }
   ],
   "source": [
    "%%timeit -n500 -r10\n",
    "total = [i for i in range(1000)]"
   ]
  },
  {
   "cell_type": "markdown",
   "metadata": {
    "slideshow": {
     "slide_type": "slide"
    }
   },
   "source": [
    "# Bash Shell\n",
    "\n",
    "---\n",
    "\n",
    "* Bash is a text interface to the operating system (OS)\n",
    "\n",
    "* OS handles file operations, interfacing with network, etc\n",
    "\n",
    "* Bash allows you to execute system operations using text commands\n",
    "\n",
    "    ```bash\n",
    "    echo \"######## hello\" > somefile.txt ## prints string into file 'somefile.txt'\n",
    "    ls -alh                              ## list files in directory\n",
    "    cat somefile.txt                     ## print contents of 'somefile.txt'\n",
    "    rm somefile.txt                      ## remove 'somefile.txt'\n",
    "    ```\n",
    "* Super cool resource: [Explain Shell](https://explainshell.com/)\n",
    "\n",
    "* [Demo] Use git command to clone a repository on Github  \n",
    "    _Note: self-learning git is recommended but not required for the course_ [[Software carpentry lesson: git](https://swcarpentry.github.io/git-novice/)]\n",
    "    \n",
    "* More on command line later    "
   ]
  },
  {
   "cell_type": "markdown",
   "metadata": {
    "slideshow": {
     "slide_type": "subslide"
    }
   },
   "source": [
    "## Example: Run bash commands: `%%bash`\n",
    "\n",
    "Bash is a shell scripting language. Bash language can coexist in Jupyter notebook. "
   ]
  },
  {
   "cell_type": "code",
   "execution_count": 6,
   "metadata": {
    "slideshow": {
     "slide_type": "fragment"
    }
   },
   "outputs": [
    {
     "name": "stdout",
     "output_type": "stream",
     "text": [
      "######## hello\n",
      "######## did you see a hello?\n",
      "######## listing files\n",
      "total 52K\n",
      "drwxr-xr-x 4 jovyan users 4.0K Sep 30 20:40 .\n",
      "drwxrwxr-x 6 jovyan  1000 4.0K Sep 30 17:06 ..\n",
      "-rw-r--r-- 1 jovyan users  33K Sep 30 20:38 01-Statistical-Data-Science.ipynb\n",
      "drwxr-xr-x 3 jovyan users 4.0K Sep 30 17:04 images\n",
      "drwxr-xr-x 2 jovyan users 4.0K Sep 27 07:33 .ipynb_checkpoints\n"
     ]
    }
   ],
   "source": [
    "%%bash\n",
    "\n",
    "echo \"######## hello\" > somefile.txt\n",
    "cat somefile.txt\n",
    "echo \"######## did you see a hello?\"\n",
    "echo \"######## listing files\"\n",
    "rm somefile.txt\n",
    "ls -alh"
   ]
  },
  {
   "cell_type": "markdown",
   "metadata": {
    "slideshow": {
     "slide_type": "slide"
    }
   },
   "source": [
    "## Example: Jupyter Notebook and Bash\n",
    "\n",
    "- [Who is Jovyan?](https://github.com/jupyter/docker-stacks/issues/358)\n",
    "- [\"In science fiction, a Jovian is an inhabitant of the planet Jupiter.\"](https://en.wikipedia.org/wiki/Jovian_%28fiction%29)\n",
    "\n",
    "Shell output can be saved into a Python variable"
   ]
  },
  {
   "cell_type": "code",
   "execution_count": 7,
   "metadata": {
    "slideshow": {
     "slide_type": "fragment"
    }
   },
   "outputs": [
    {
     "name": "stdout",
     "output_type": "stream",
     "text": [
      "file 0 : 01-Statistical-Data-Science.ipynb\n"
     ]
    }
   ],
   "source": [
    "nbfiles = !ls *.ipynb  # store filenames in nbfiles variable\n",
    "\n",
    "for f,one in enumerate(nbfiles):\n",
    "    print(\"file\", f, \":\", one)"
   ]
  },
  {
   "cell_type": "markdown",
   "metadata": {
    "slideshow": {
     "slide_type": "slide"
    }
   },
   "source": [
    "## Example: Exporting notebooks\n",
    "\n",
    "- Notebooks can be converted using [`nbconvert`](https://nbconvert.readthedocs.io/en/latest/)\n",
    "    - Slides\n",
    "    - Static web pages  \n",
    "        e.g. auto-updating reporting, blogs, etc\n",
    "\n",
    "- Shell script to automated execution  \n",
    "    `jupyter nbconvert --to html --execute mynotebook.ipynb`"
   ]
  }
 ],
 "metadata": {
  "celltoolbar": "Slideshow",
  "kernelspec": {
   "display_name": "Python 3",
   "language": "python",
   "name": "python3"
  },
  "language_info": {
   "codemirror_mode": {
    "name": "ipython",
    "version": 3
   },
   "file_extension": ".py",
   "mimetype": "text/x-python",
   "name": "python",
   "nbconvert_exporter": "python",
   "pygments_lexer": "ipython3",
   "version": "3.7.3"
  },
  "toc": {
   "base_numbering": 1,
   "nav_menu": {},
   "number_sections": false,
   "sideBar": true,
   "skip_h1_title": false,
   "title_cell": "Table of Contents",
   "title_sidebar": "Contents",
   "toc_cell": false,
   "toc_position": {
    "height": "306.8px",
    "left": "130px",
    "top": "386.8px",
    "width": "237.7px"
   },
   "toc_section_display": true,
   "toc_window_display": false
  }
 },
 "nbformat": 4,
 "nbformat_minor": 4
}
